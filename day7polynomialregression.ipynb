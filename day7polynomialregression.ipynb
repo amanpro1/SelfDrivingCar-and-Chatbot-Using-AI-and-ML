{
 "cells": [
  {
   "cell_type": "code",
   "execution_count": 1,
   "metadata": {
    "colab": {
     "base_uri": "https://localhost:8080/",
     "height": 80
    },
    "colab_type": "code",
    "id": "xMZuHgy_DUyO",
    "outputId": "d511036d-290b-4a6d-e054-b1e5cfa717a0"
   },
   "outputs": [
    {
     "name": "stderr",
     "output_type": "stream",
     "text": [
      "Using TensorFlow backend.\n"
     ]
    },
    {
     "data": {
      "text/html": [
       "<p style=\"color: red;\">\n",
       "The default version of TensorFlow in Colab will soon switch to TensorFlow 2.x.<br>\n",
       "We recommend you <a href=\"https://www.tensorflow.org/guide/migrate\" target=\"_blank\">upgrade</a> now \n",
       "or ensure your notebook will continue to use TensorFlow 1.x via the <code>%tensorflow_version 1.x</code> magic:\n",
       "<a href=\"https://colab.research.google.com/notebooks/tensorflow_version.ipynb\" target=\"_blank\">more info</a>.</p>\n"
      ],
      "text/plain": [
       "<IPython.core.display.HTML object>"
      ]
     },
     "metadata": {
      "tags": []
     },
     "output_type": "display_data"
    }
   ],
   "source": [
    "import numpy as np\n",
    "import matplotlib.pyplot as plt\n",
    "from keras.models import Sequential\n",
    "from keras.layers import Dense\n",
    "from keras.optimizers import Adam"
   ]
  },
  {
   "cell_type": "code",
   "execution_count": 0,
   "metadata": {
    "colab": {},
    "colab_type": "code",
    "id": "HXZuUQZuDwIS"
   },
   "outputs": [],
   "source": [
    "n_pts = 100\n",
    "x = np.linspace(-3,3,n_pts)\n",
    "y = np.sin(x)+np.random.uniform(-0.5,0.5,n_pts)"
   ]
  },
  {
   "cell_type": "code",
   "execution_count": 3,
   "metadata": {
    "colab": {
     "base_uri": "https://localhost:8080/",
     "height": 265
    },
    "colab_type": "code",
    "id": "iCoLg6DAEEq3",
    "outputId": "760d64c4-fbce-4598-e7bd-01548f92c731"
   },
   "outputs": [
    {
     "data": {
      "image/png": "[encoded data removed]",
      "text/plain": [
       "<Figure size 432x288 with 1 Axes>"
      ]
     },
     "metadata": {
      "tags": []
     },
     "output_type": "display_data"
    }
   ],
   "source": [
    "plt.scatter(x,y)\n",
    "plt.show()"
   ]
  },
  {
   "cell_type": "code",
   "execution_count": 4,
   "metadata": {
    "colab": {
     "base_uri": "https://localhost:8080/",
     "height": 428
    },
    "colab_type": "code",
    "id": "jNKPW4HhEI5_",
    "outputId": "a9c4bd93-8fa9-44a0-f09d-0be9d9140db1"
   },
   "outputs": [
    {
     "name": "stdout",
     "output_type": "stream",
     "text": [
      "WARNING:tensorflow:From /usr/local/lib/python3.6/dist-packages/keras/backend/tensorflow_backend.py:66: The name tf.get_default_graph is deprecated. Please use tf.compat.v1.get_default_graph instead.\n",
      "\n",
      "WARNING:tensorflow:From /usr/local/lib/python3.6/dist-packages/keras/backend/tensorflow_backend.py:541: The name tf.placeholder is deprecated. Please use tf.compat.v1.placeholder instead.\n",
      "\n",
      "WARNING:tensorflow:From /usr/local/lib/python3.6/dist-packages/keras/backend/tensorflow_backend.py:4432: The name tf.random_uniform is deprecated. Please use tf.random.uniform instead.\n",
      "\n",
      "WARNING:tensorflow:From /usr/local/lib/python3.6/dist-packages/keras/optimizers.py:793: The name tf.train.Optimizer is deprecated. Please use tf.compat.v1.train.Optimizer instead.\n",
      "\n",
      "Model: \"sequential_1\"\n",
      "_________________________________________________________________\n",
      "Layer (type)                 Output Shape              Param #   \n",
      "=================================================================\n",
      "dense_1 (Dense)              (None, 50)                100       \n",
      "_________________________________________________________________\n",
      "dense_2 (Dense)              (None, 25)                1275      \n",
      "_________________________________________________________________\n",
      "dense_3 (Dense)              (None, 1)                 26        \n",
      "=================================================================\n",
      "Total params: 1,401\n",
      "Trainable params: 1,401\n",
      "Non-trainable params: 0\n",
      "_________________________________________________________________\n",
      "None\n"
     ]
    }
   ],
   "source": [
    "model = Sequential()\n",
    "model.add(Dense(50,input_dim = 1,activation='tanh'))\n",
    "model.add(Dense(25,activation='tanh'))\n",
    "model.add(Dense(1))\n",
    "model.compile(Adam(lr=0.01),loss = 'mse')\n",
    "print(model.summary())"
   ]
  },
  {
   "cell_type": "code",
   "execution_count": 5,
   "metadata": {
    "colab": {
     "base_uri": "https://localhost:8080/",
     "height": 1000
    },
    "colab_type": "code",
    "id": "xllamUyhErGe",
    "outputId": "78643e13-2578-4dba-ec36-1d1777a67021"
   },
   "outputs": [
    {
     "name": "stdout",
     "output_type": "stream",
     "text": [
      "WARNING:tensorflow:From /usr/local/lib/python3.6/dist-packages/keras/backend/tensorflow_backend.py:1033: The name tf.assign_add is deprecated. Please use tf.compat.v1.assign_add instead.\n",
      "\n",
      "WARNING:tensorflow:From /usr/local/lib/python3.6/dist-packages/keras/backend/tensorflow_backend.py:1020: The name tf.assign is deprecated. Please use tf.compat.v1.assign instead.\n",
      "\n",
      "WARNING:tensorflow:From /usr/local/lib/python3.6/dist-packages/keras/backend/tensorflow_backend.py:3005: The name tf.Session is deprecated. Please use tf.compat.v1.Session instead.\n",
      "\n",
      "Epoch 1/100\n",
      "WARNING:tensorflow:From /usr/local/lib/python3.6/dist-packages/keras/backend/tensorflow_backend.py:190: The name tf.get_default_session is deprecated. Please use tf.compat.v1.get_default_session instead.\n",
      "\n",
      "WARNING:tensorflow:From /usr/local/lib/python3.6/dist-packages/keras/backend/tensorflow_backend.py:197: The name tf.ConfigProto is deprecated. Please use tf.compat.v1.ConfigProto instead.\n",
      "\n",
      "WARNING:tensorflow:From /usr/local/lib/python3.6/dist-packages/keras/backend/tensorflow_backend.py:207: The name tf.global_variables is deprecated. Please use tf.compat.v1.global_variables instead.\n",
      "\n",
      "WARNING:tensorflow:From /usr/local/lib/python3.6/dist-packages/keras/backend/tensorflow_backend.py:216: The name tf.is_variable_initialized is deprecated. Please use tf.compat.v1.is_variable_initialized instead.\n",
      "\n",
      "WARNING:tensorflow:From /usr/local/lib/python3.6/dist-packages/keras/backend/tensorflow_backend.py:223: The name tf.variables_initializer is deprecated. Please use tf.compat.v1.variables_initializer instead.\n",
      "\n",
      "100/100 [==============================] - 1s 11ms/step - loss: 0.2412\n",
      "Epoch 2/100\n",
      "100/100 [==============================] - 0s 187us/step - loss: 0.2393\n",
      "Epoch 3/100\n",
      "100/100 [==============================] - 0s 135us/step - loss: 0.2925\n",
      "Epoch 4/100\n",
      "100/100 [==============================] - 0s 133us/step - loss: 0.1546\n",
      "Epoch 5/100\n",
      "100/100 [==============================] - 0s 144us/step - loss: 0.1542\n",
      "Epoch 6/100\n",
      "100/100 [==============================] - 0s 152us/step - loss: 0.1511\n",
      "Epoch 7/100\n",
      "100/100 [==============================] - 0s 149us/step - loss: 0.1199\n",
      "Epoch 8/100\n",
      "100/100 [==============================] - 0s 129us/step - loss: 0.1002\n",
      "Epoch 9/100\n",
      "100/100 [==============================] - 0s 134us/step - loss: 0.0976\n",
      "Epoch 10/100\n",
      "100/100 [==============================] - 0s 139us/step - loss: 0.0917\n",
      "Epoch 11/100\n",
      "100/100 [==============================] - 0s 140us/step - loss: 0.0854\n",
      "Epoch 12/100\n",
      "100/100 [==============================] - 0s 157us/step - loss: 0.0832\n",
      "Epoch 13/100\n",
      "100/100 [==============================] - 0s 152us/step - loss: 0.0836\n",
      "Epoch 14/100\n",
      "100/100 [==============================] - 0s 159us/step - loss: 0.0843\n",
      "Epoch 15/100\n",
      "100/100 [==============================] - 0s 156us/step - loss: 0.0821\n",
      "Epoch 16/100\n",
      "100/100 [==============================] - 0s 157us/step - loss: 0.0834\n",
      "Epoch 17/100\n",
      "100/100 [==============================] - 0s 184us/step - loss: 0.0854\n",
      "Epoch 18/100\n",
      "100/100 [==============================] - 0s 143us/step - loss: 0.0841\n",
      "Epoch 19/100\n",
      "100/100 [==============================] - 0s 208us/step - loss: 0.0818\n",
      "Epoch 20/100\n",
      "100/100 [==============================] - 0s 172us/step - loss: 0.1044\n",
      "Epoch 21/100\n",
      "100/100 [==============================] - 0s 149us/step - loss: 0.0852\n",
      "Epoch 22/100\n",
      "100/100 [==============================] - 0s 155us/step - loss: 0.0791\n",
      "Epoch 23/100\n",
      "100/100 [==============================] - 0s 150us/step - loss: 0.0898\n",
      "Epoch 24/100\n",
      "100/100 [==============================] - 0s 169us/step - loss: 0.1073\n",
      "Epoch 25/100\n",
      "100/100 [==============================] - 0s 144us/step - loss: 0.0814\n",
      "Epoch 26/100\n",
      "100/100 [==============================] - 0s 160us/step - loss: 0.0838\n",
      "Epoch 27/100\n",
      "100/100 [==============================] - 0s 158us/step - loss: 0.0901\n",
      "Epoch 28/100\n",
      "100/100 [==============================] - 0s 150us/step - loss: 0.0820\n",
      "Epoch 29/100\n",
      "100/100 [==============================] - 0s 156us/step - loss: 0.0877\n",
      "Epoch 30/100\n",
      "100/100 [==============================] - 0s 138us/step - loss: 0.0823\n",
      "Epoch 31/100\n",
      "100/100 [==============================] - 0s 130us/step - loss: 0.0917\n",
      "Epoch 32/100\n",
      "100/100 [==============================] - 0s 137us/step - loss: 0.0795\n",
      "Epoch 33/100\n",
      "100/100 [==============================] - 0s 159us/step - loss: 0.1008\n",
      "Epoch 34/100\n",
      "100/100 [==============================] - 0s 167us/step - loss: 0.1037\n",
      "Epoch 35/100\n",
      "100/100 [==============================] - 0s 150us/step - loss: 0.0853\n",
      "Epoch 36/100\n",
      "100/100 [==============================] - 0s 142us/step - loss: 0.0906\n",
      "Epoch 37/100\n",
      "100/100 [==============================] - 0s 119us/step - loss: 0.0840\n",
      "Epoch 38/100\n",
      "100/100 [==============================] - 0s 131us/step - loss: 0.0810\n",
      "Epoch 39/100\n",
      "100/100 [==============================] - 0s 148us/step - loss: 0.0815\n",
      "Epoch 40/100\n",
      "100/100 [==============================] - 0s 146us/step - loss: 0.0821\n",
      "Epoch 41/100\n",
      "100/100 [==============================] - 0s 146us/step - loss: 0.0806\n",
      "Epoch 42/100\n",
      "100/100 [==============================] - 0s 194us/step - loss: 0.0806\n",
      "Epoch 43/100\n",
      "100/100 [==============================] - 0s 143us/step - loss: 0.0808\n",
      "Epoch 44/100\n",
      "100/100 [==============================] - 0s 137us/step - loss: 0.0821\n",
      "Epoch 45/100\n",
      "100/100 [==============================] - 0s 156us/step - loss: 0.0803\n",
      "Epoch 46/100\n",
      "100/100 [==============================] - 0s 132us/step - loss: 0.0848\n",
      "Epoch 47/100\n",
      "100/100 [==============================] - 0s 135us/step - loss: 0.0819\n",
      "Epoch 48/100\n",
      "100/100 [==============================] - 0s 126us/step - loss: 0.0811\n",
      "Epoch 49/100\n",
      "100/100 [==============================] - 0s 190us/step - loss: 0.0804\n",
      "Epoch 50/100\n",
      "100/100 [==============================] - 0s 145us/step - loss: 0.0794\n",
      "Epoch 51/100\n",
      "100/100 [==============================] - 0s 139us/step - loss: 0.0807\n",
      "Epoch 52/100\n",
      "100/100 [==============================] - 0s 136us/step - loss: 0.0799\n",
      "Epoch 53/100\n",
      "100/100 [==============================] - 0s 170us/step - loss: 0.0931\n",
      "Epoch 54/100\n",
      "100/100 [==============================] - 0s 157us/step - loss: 0.0899\n",
      "Epoch 55/100\n",
      "100/100 [==============================] - 0s 188us/step - loss: 0.0834\n",
      "Epoch 56/100\n",
      "100/100 [==============================] - 0s 175us/step - loss: 0.0899\n",
      "Epoch 57/100\n",
      "100/100 [==============================] - 0s 184us/step - loss: 0.0798\n",
      "Epoch 58/100\n",
      "100/100 [==============================] - 0s 160us/step - loss: 0.0847\n",
      "Epoch 59/100\n",
      "100/100 [==============================] - 0s 166us/step - loss: 0.1212\n",
      "Epoch 60/100\n",
      "100/100 [==============================] - 0s 136us/step - loss: 0.0869\n",
      "Epoch 61/100\n",
      "100/100 [==============================] - 0s 151us/step - loss: 0.0921\n",
      "Epoch 62/100\n",
      "100/100 [==============================] - 0s 163us/step - loss: 0.0833\n",
      "Epoch 63/100\n",
      "100/100 [==============================] - 0s 134us/step - loss: 0.1014\n",
      "Epoch 64/100\n",
      "100/100 [==============================] - 0s 216us/step - loss: 0.0980\n",
      "Epoch 65/100\n",
      "100/100 [==============================] - 0s 173us/step - loss: 0.1027\n",
      "Epoch 66/100\n",
      "100/100 [==============================] - 0s 173us/step - loss: 0.0827\n",
      "Epoch 67/100\n",
      "100/100 [==============================] - 0s 198us/step - loss: 0.0956\n",
      "Epoch 68/100\n",
      "100/100 [==============================] - 0s 178us/step - loss: 0.0841\n",
      "Epoch 69/100\n",
      "100/100 [==============================] - 0s 168us/step - loss: 0.0821\n",
      "Epoch 70/100\n",
      "100/100 [==============================] - 0s 146us/step - loss: 0.0872\n",
      "Epoch 71/100\n",
      "100/100 [==============================] - 0s 134us/step - loss: 0.0817\n",
      "Epoch 72/100\n",
      "100/100 [==============================] - 0s 137us/step - loss: 0.0950\n",
      "Epoch 73/100\n",
      "100/100 [==============================] - 0s 136us/step - loss: 0.0885\n",
      "Epoch 74/100\n",
      "100/100 [==============================] - 0s 148us/step - loss: 0.0908\n",
      "Epoch 75/100\n",
      "100/100 [==============================] - 0s 133us/step - loss: 0.0815\n",
      "Epoch 76/100\n",
      "100/100 [==============================] - 0s 149us/step - loss: 0.0836\n",
      "Epoch 77/100\n",
      "100/100 [==============================] - 0s 179us/step - loss: 0.0793\n",
      "Epoch 78/100\n",
      "100/100 [==============================] - 0s 155us/step - loss: 0.0978\n",
      "Epoch 79/100\n",
      "100/100 [==============================] - 0s 161us/step - loss: 0.0847\n",
      "Epoch 80/100\n",
      "100/100 [==============================] - 0s 148us/step - loss: 0.0854\n",
      "Epoch 81/100\n",
      "100/100 [==============================] - 0s 136us/step - loss: 0.0820\n",
      "Epoch 82/100\n",
      "100/100 [==============================] - 0s 197us/step - loss: 0.0884\n",
      "Epoch 83/100\n",
      "100/100 [==============================] - 0s 187us/step - loss: 0.0825\n",
      "Epoch 84/100\n",
      "100/100 [==============================] - 0s 200us/step - loss: 0.0777\n",
      "Epoch 85/100\n",
      "100/100 [==============================] - 0s 181us/step - loss: 0.0917\n",
      "Epoch 86/100\n",
      "100/100 [==============================] - 0s 185us/step - loss: 0.0895\n",
      "Epoch 87/100\n",
      "100/100 [==============================] - 0s 159us/step - loss: 0.1009\n",
      "Epoch 88/100\n",
      "100/100 [==============================] - 0s 148us/step - loss: 0.0836\n",
      "Epoch 89/100\n",
      "100/100 [==============================] - 0s 152us/step - loss: 0.0823\n",
      "Epoch 90/100\n",
      "100/100 [==============================] - 0s 150us/step - loss: 0.0915\n",
      "Epoch 91/100\n",
      "100/100 [==============================] - 0s 192us/step - loss: 0.0780\n",
      "Epoch 92/100\n",
      "100/100 [==============================] - 0s 153us/step - loss: 0.0943\n",
      "Epoch 93/100\n",
      "100/100 [==============================] - 0s 157us/step - loss: 0.0807\n",
      "Epoch 94/100\n",
      "100/100 [==============================] - 0s 136us/step - loss: 0.0854\n",
      "Epoch 95/100\n",
      "100/100 [==============================] - 0s 161us/step - loss: 0.0812\n",
      "Epoch 96/100\n",
      "100/100 [==============================] - 0s 129us/step - loss: 0.0832\n",
      "Epoch 97/100\n",
      "100/100 [==============================] - 0s 203us/step - loss: 0.0837\n",
      "Epoch 98/100\n",
      "100/100 [==============================] - 0s 147us/step - loss: 0.0788\n",
      "Epoch 99/100\n",
      "100/100 [==============================] - 0s 146us/step - loss: 0.0838\n",
      "Epoch 100/100\n",
      "100/100 [==============================] - 0s 138us/step - loss: 0.0792\n"
     ]
    },
    {
     "data": {
      "text/plain": [
       "<keras.callbacks.History at 0x7f6cee2c3828>"
      ]
     },
     "execution_count": 5,
     "metadata": {
      "tags": []
     },
     "output_type": "execute_result"
    }
   ],
   "source": [
    "model.fit(x,y,epochs=100,verbose=1)"
   ]
  },
  {
   "cell_type": "code",
   "execution_count": 6,
   "metadata": {
    "colab": {
     "base_uri": "https://localhost:8080/",
     "height": 265
    },
    "colab_type": "code",
    "id": "YbuRTpHAFoig",
    "outputId": "cf1848e1-af5b-4aa2-fa36-c99dfcd766b8"
   },
   "outputs": [
    {
     "data": {
      "image/png": "[encoded data removed]",
      "text/plain": [
       "<Figure size 432x288 with 1 Axes>"
      ]
     },
     "metadata": {
      "tags": []
     },
     "output_type": "display_data"
    }
   ],
   "source": [
    "plt.scatter(x,y,color='b')\n",
    "plt.plot(x,model.predict(x),color='r')\n",
    "plt.show()"
   ]
  },
  {
   "cell_type": "markdown",
   "metadata": {
    "colab": {},
    "colab_type": "code",
    "id": "wDX31jgBGc2z"
   },
   "source": [
    "#TYPES OF ACTIVATION\n",
    "#hyperparameters"
   ]
  },
  {
   "cell_type": "code",
   "execution_count": null,
   "metadata": {},
   "outputs": [],
   "source": []
  }
 ],
 "metadata": {
  "accelerator": "GPU",
  "colab": {
   "collapsed_sections": [],
   "name": "Untitled0.ipynb",
   "provenance": []
  },
  "kernelspec": {
   "display_name": "Python 3",
   "language": "python",
   "name": "python3"
  },
  "language_info": {
   "codemirror_mode": {
    "name": "ipython",
    "version": 3
   },
   "file_extension": ".py",
   "mimetype": "text/x-python",
   "name": "python",
   "nbconvert_exporter": "python",
   "pygments_lexer": "ipython3",
   "version": "3.7.4"
  }
 },
 "nbformat": 4,
 "nbformat_minor": 1
}
