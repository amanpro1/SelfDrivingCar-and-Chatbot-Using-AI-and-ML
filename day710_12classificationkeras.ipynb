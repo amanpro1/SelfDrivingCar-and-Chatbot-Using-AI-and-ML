{
 "cells": [
  {
   "cell_type": "code",
   "execution_count": 1,
   "metadata": {},
   "outputs": [],
   "source": [
    "import numpy as np\n",
    "import matplotlib.pyplot as plt"
   ]
  },
  {
   "cell_type": "code",
   "execution_count": 8,
   "metadata": {},
   "outputs": [],
   "source": [
    "np.random.seed(0)\n",
    "n_pts = 100\n",
    "top_reg = np.array([np.random.normal(10,2,n_pts),np.random.normal(10,2,n_pts)]).T\n",
    "bot_reg = np.array([np.random.normal(5,2,n_pts),np.random.normal(5,2,n_pts)]).T\n",
    "xtr = np.vstack((top_reg,bot_reg))\n",
    "ytr = np.matrix(np.append(np.ones(n_pts),np.zeros(n_pts))).T\n"
   ]
  },
  {
   "cell_type": "code",
   "execution_count": 11,
   "metadata": {},
   "outputs": [
    {
     "name": "stdout",
     "output_type": "stream",
     "text": [
      "input dim:2\n",
      "output dim:1\n"
     ]
    }
   ],
   "source": [
    "print('input dim',xtr.shape[1],sep=':')\n",
    "print('output dim',ytr.shape[1],sep=':')\n",
    "\n"
   ]
  },
  {
   "cell_type": "code",
   "execution_count": 12,
   "metadata": {},
   "outputs": [
    {
     "data": {
      "image/png": "[encoded data removed]",
      "text/plain": [
       "<Figure size 432x288 with 1 Axes>"
      ]
     },
     "metadata": {
      "needs_background": "light"
     },
     "output_type": "display_data"
    }
   ],
   "source": [
    "plt.scatter(xtr[:n_pts,0],xtr[:n_pts,1])\n",
    "plt.scatter(xtr[n_pts:,0],xtr[n_pts:,1])\n",
    "plt.show()"
   ]
  },
  {
   "cell_type": "code",
   "execution_count": null,
   "metadata": {},
   "outputs": [],
   "source": [
    "from keras.models import Sequential\n",
    "from keras.layers import Dense\n",
    "from keras.optimizers import Adam"
   ]
  },
  {
   "cell_type": "markdown",
   "metadata": {},
   "source": [
    "For Binary (2 class classification),loss=\"binary_crossentropy\"\n",
    "For more than 2 classes , loss=\"categorical_crossentropy\""
   ]
  },
  {
   "cell_type": "code",
   "execution_count": 13,
   "metadata": {},
   "outputs": [
    {
     "name": "stdout",
     "output_type": "stream",
     "text": [
      "Model: \"sequential_1\"\n",
      "_________________________________________________________________\n",
      "Layer (type)                 Output Shape              Param #   \n",
      "=================================================================\n",
      "dense_1 (Dense)              (None, 1)                 3         \n",
      "=================================================================\n",
      "Total params: 3\n",
      "Trainable params: 3\n",
      "Non-trainable params: 0\n",
      "_________________________________________________________________\n",
      "None\n"
     ]
    }
   ],
   "source": [
    "model = Sequential()\n",
    "model.add(Dense(1,input_dim=2,activation='sigmoid'))\n",
    "model.compile(Adam(lr=0.03),loss='binary_crossentropy',metrics=['accuracy'])\n",
    "print(model.summary())"
   ]
  },
  {
   "cell_type": "code",
   "execution_count": 15,
   "metadata": {},
   "outputs": [
    {
     "name": "stdout",
     "output_type": "stream",
     "text": [
      "Epoch 1/100\n",
      "200/200 [==============================] - 0s 628us/step - loss: 0.7320 - accuracy: 0.5550\n",
      "Epoch 2/100\n",
      "200/200 [==============================] - 0s 65us/step - loss: 0.6727 - accuracy: 0.5850\n",
      "Epoch 3/100\n",
      "200/200 [==============================] - 0s 75us/step - loss: 0.6163 - accuracy: 0.6150\n",
      "Epoch 4/100\n",
      "200/200 [==============================] - 0s 90us/step - loss: 0.5750 - accuracy: 0.6300\n",
      "Epoch 5/100\n",
      "200/200 [==============================] - 0s 114us/step - loss: 0.5391 - accuracy: 0.6450\n",
      "Epoch 6/100\n",
      "200/200 [==============================] - 0s 80us/step - loss: 0.5116 - accuracy: 0.7050\n",
      "Epoch 7/100\n",
      "200/200 [==============================] - 0s 105us/step - loss: 0.4891 - accuracy: 0.8100\n",
      "Epoch 8/100\n",
      "200/200 [==============================] - 0s 95us/step - loss: 0.4657 - accuracy: 0.8600\n",
      "Epoch 9/100\n",
      "200/200 [==============================] - 0s 110us/step - loss: 0.4593 - accuracy: 0.7500\n",
      "Epoch 10/100\n",
      "200/200 [==============================] - 0s 75us/step - loss: 0.4501 - accuracy: 0.9250\n",
      "Epoch 11/100\n",
      "200/200 [==============================] - 0s 75us/step - loss: 0.4234 - accuracy: 0.8500\n",
      "Epoch 12/100\n",
      "200/200 [==============================] - 0s 95us/step - loss: 0.4072 - accuracy: 0.8150\n",
      "Epoch 13/100\n",
      "200/200 [==============================] - 0s 80us/step - loss: 0.3912 - accuracy: 0.9300\n",
      "Epoch 14/100\n",
      "200/200 [==============================] - 0s 115us/step - loss: 0.3776 - accuracy: 0.8750\n",
      "Epoch 15/100\n",
      "200/200 [==============================] - 0s 85us/step - loss: 0.3689 - accuracy: 0.9350\n",
      "Epoch 16/100\n",
      "200/200 [==============================] - ETA: 0s - loss: 0.3515 - accuracy: 0.90 - 0s 95us/step - loss: 0.3536 - accuracy: 0.9150\n",
      "Epoch 17/100\n",
      "200/200 [==============================] - 0s 110us/step - loss: 0.3494 - accuracy: 0.9000\n",
      "Epoch 18/100\n",
      "200/200 [==============================] - 0s 80us/step - loss: 0.3382 - accuracy: 0.9050\n",
      "Epoch 19/100\n",
      "200/200 [==============================] - 0s 75us/step - loss: 0.3278 - accuracy: 0.9300\n",
      "Epoch 20/100\n",
      "200/200 [==============================] - 0s 125us/step - loss: 0.3203 - accuracy: 0.9400\n",
      "Epoch 21/100\n",
      "200/200 [==============================] - 0s 90us/step - loss: 0.3122 - accuracy: 0.9200\n",
      "Epoch 22/100\n",
      "200/200 [==============================] - 0s 110us/step - loss: 0.3095 - accuracy: 0.9600\n",
      "Epoch 23/100\n",
      "200/200 [==============================] - 0s 95us/step - loss: 0.2967 - accuracy: 0.9350\n",
      "Epoch 24/100\n",
      "200/200 [==============================] - 0s 100us/step - loss: 0.2924 - accuracy: 0.9300\n",
      "Epoch 25/100\n",
      "200/200 [==============================] - 0s 110us/step - loss: 0.2833 - accuracy: 0.9550\n",
      "Epoch 26/100\n",
      "200/200 [==============================] - 0s 105us/step - loss: 0.2783 - accuracy: 0.9450\n",
      "Epoch 27/100\n",
      "200/200 [==============================] - 0s 105us/step - loss: 0.2693 - accuracy: 0.9650\n",
      "Epoch 28/100\n",
      "200/200 [==============================] - 0s 115us/step - loss: 0.2668 - accuracy: 0.9700\n",
      "Epoch 29/100\n",
      "200/200 [==============================] - 0s 105us/step - loss: 0.2596 - accuracy: 0.9600\n",
      "Epoch 30/100\n",
      "200/200 [==============================] - 0s 80us/step - loss: 0.2570 - accuracy: 0.9600\n",
      "Epoch 31/100\n",
      "200/200 [==============================] - 0s 85us/step - loss: 0.2499 - accuracy: 0.9600\n",
      "Epoch 32/100\n",
      "200/200 [==============================] - 0s 90us/step - loss: 0.2457 - accuracy: 0.9650\n",
      "Epoch 33/100\n",
      "200/200 [==============================] - 0s 80us/step - loss: 0.2425 - accuracy: 0.9650\n",
      "Epoch 34/100\n",
      "200/200 [==============================] - 0s 95us/step - loss: 0.2378 - accuracy: 0.9650\n",
      "Epoch 35/100\n",
      "200/200 [==============================] - 0s 85us/step - loss: 0.2348 - accuracy: 0.9500\n",
      "Epoch 36/100\n",
      "200/200 [==============================] - 0s 90us/step - loss: 0.2278 - accuracy: 0.9600\n",
      "Epoch 37/100\n",
      "200/200 [==============================] - 0s 115us/step - loss: 0.2270 - accuracy: 0.9650\n",
      "Epoch 38/100\n",
      "200/200 [==============================] - 0s 115us/step - loss: 0.2248 - accuracy: 0.9650\n",
      "Epoch 39/100\n",
      "200/200 [==============================] - 0s 85us/step - loss: 0.2192 - accuracy: 0.9700\n",
      "Epoch 40/100\n",
      "200/200 [==============================] - 0s 120us/step - loss: 0.2157 - accuracy: 0.9650\n",
      "Epoch 41/100\n",
      "200/200 [==============================] - 0s 269us/step - loss: 0.2121 - accuracy: 0.9650\n",
      "Epoch 42/100\n",
      "200/200 [==============================] - 0s 90us/step - loss: 0.2116 - accuracy: 0.9650\n",
      "Epoch 43/100\n",
      "200/200 [==============================] - 0s 75us/step - loss: 0.2101 - accuracy: 0.9600\n",
      "Epoch 44/100\n",
      "200/200 [==============================] - 0s 145us/step - loss: 0.2048 - accuracy: 0.9650\n",
      "Epoch 45/100\n",
      "200/200 [==============================] - 0s 90us/step - loss: 0.2074 - accuracy: 0.9500\n",
      "Epoch 46/100\n",
      "200/200 [==============================] - 0s 95us/step - loss: 0.2065 - accuracy: 0.9550\n",
      "Epoch 47/100\n",
      "200/200 [==============================] - 0s 100us/step - loss: 0.1977 - accuracy: 0.9550\n",
      "Epoch 48/100\n",
      "200/200 [==============================] - 0s 150us/step - loss: 0.2054 - accuracy: 0.9400\n",
      "Epoch 49/100\n",
      "200/200 [==============================] - 0s 95us/step - loss: 0.1960 - accuracy: 0.9550\n",
      "Epoch 50/100\n",
      "200/200 [==============================] - 0s 100us/step - loss: 0.1894 - accuracy: 0.9650\n",
      "Epoch 51/100\n",
      "200/200 [==============================] - 0s 115us/step - loss: 0.1877 - accuracy: 0.9650\n",
      "Epoch 52/100\n",
      "200/200 [==============================] - 0s 85us/step - loss: 0.1839 - accuracy: 0.9650\n",
      "Epoch 53/100\n",
      "200/200 [==============================] - 0s 125us/step - loss: 0.1816 - accuracy: 0.9700\n",
      "Epoch 54/100\n",
      "200/200 [==============================] - 0s 85us/step - loss: 0.1820 - accuracy: 0.9650\n",
      "Epoch 55/100\n",
      "200/200 [==============================] - 0s 80us/step - loss: 0.1785 - accuracy: 0.9650\n",
      "Epoch 56/100\n",
      "200/200 [==============================] - 0s 80us/step - loss: 0.1812 - accuracy: 0.9650\n",
      "Epoch 57/100\n",
      "200/200 [==============================] - 0s 90us/step - loss: 0.1729 - accuracy: 0.9700\n",
      "Epoch 58/100\n",
      "200/200 [==============================] - 0s 55us/step - loss: 0.1736 - accuracy: 0.9650\n",
      "Epoch 59/100\n",
      "200/200 [==============================] - 0s 80us/step - loss: 0.1716 - accuracy: 0.9700\n",
      "Epoch 60/100\n",
      "200/200 [==============================] - 0s 90us/step - loss: 0.1713 - accuracy: 0.9650\n",
      "Epoch 61/100\n",
      "200/200 [==============================] - 0s 65us/step - loss: 0.1681 - accuracy: 0.9650\n",
      "Epoch 62/100\n",
      "200/200 [==============================] - 0s 65us/step - loss: 0.1664 - accuracy: 0.9650\n",
      "Epoch 63/100\n",
      "200/200 [==============================] - 0s 85us/step - loss: 0.1662 - accuracy: 0.9650\n",
      "Epoch 64/100\n",
      "200/200 [==============================] - 0s 100us/step - loss: 0.1636 - accuracy: 0.9700\n",
      "Epoch 65/100\n",
      "200/200 [==============================] - 0s 85us/step - loss: 0.1612 - accuracy: 0.9650\n",
      "Epoch 66/100\n",
      "200/200 [==============================] - 0s 80us/step - loss: 0.1610 - accuracy: 0.9650\n",
      "Epoch 67/100\n",
      "200/200 [==============================] - 0s 75us/step - loss: 0.1590 - accuracy: 0.9650\n",
      "Epoch 68/100\n",
      "200/200 [==============================] - 0s 80us/step - loss: 0.1593 - accuracy: 0.9650\n",
      "Epoch 69/100\n",
      "200/200 [==============================] - 0s 95us/step - loss: 0.1594 - accuracy: 0.9600\n",
      "Epoch 70/100\n",
      "200/200 [==============================] - 0s 100us/step - loss: 0.1592 - accuracy: 0.9600\n",
      "Epoch 71/100\n",
      "200/200 [==============================] - 0s 90us/step - loss: 0.1574 - accuracy: 0.9600\n",
      "Epoch 72/100\n",
      "200/200 [==============================] - 0s 85us/step - loss: 0.1556 - accuracy: 0.9700\n",
      "Epoch 73/100\n",
      "200/200 [==============================] - 0s 75us/step - loss: 0.1525 - accuracy: 0.9700\n",
      "Epoch 74/100\n",
      "200/200 [==============================] - 0s 95us/step - loss: 0.1498 - accuracy: 0.9700\n",
      "Epoch 75/100\n",
      "200/200 [==============================] - 0s 70us/step - loss: 0.1507 - accuracy: 0.9650\n",
      "Epoch 76/100\n",
      "200/200 [==============================] - 0s 90us/step - loss: 0.1473 - accuracy: 0.9650\n",
      "Epoch 77/100\n",
      "200/200 [==============================] - 0s 65us/step - loss: 0.1492 - accuracy: 0.9650\n",
      "Epoch 78/100\n",
      "200/200 [==============================] - 0s 75us/step - loss: 0.1454 - accuracy: 0.9650\n",
      "Epoch 79/100\n",
      "200/200 [==============================] - 0s 50us/step - loss: 0.1457 - accuracy: 0.9650\n"
     ]
    },
    {
     "name": "stdout",
     "output_type": "stream",
     "text": [
      "Epoch 80/100\n",
      "200/200 [==============================] - 0s 80us/step - loss: 0.1447 - accuracy: 0.9650\n",
      "Epoch 81/100\n",
      "200/200 [==============================] - 0s 70us/step - loss: 0.1435 - accuracy: 0.9650\n",
      "Epoch 82/100\n",
      "200/200 [==============================] - 0s 75us/step - loss: 0.1418 - accuracy: 0.9650\n",
      "Epoch 83/100\n",
      "200/200 [==============================] - 0s 95us/step - loss: 0.1443 - accuracy: 0.9650\n",
      "Epoch 84/100\n",
      "200/200 [==============================] - 0s 110us/step - loss: 0.1413 - accuracy: 0.9650\n",
      "Epoch 85/100\n",
      "200/200 [==============================] - 0s 80us/step - loss: 0.1391 - accuracy: 0.9650\n",
      "Epoch 86/100\n",
      "200/200 [==============================] - 0s 80us/step - loss: 0.1384 - accuracy: 0.9650\n",
      "Epoch 87/100\n",
      "200/200 [==============================] - 0s 75us/step - loss: 0.1433 - accuracy: 0.9600\n",
      "Epoch 88/100\n",
      "200/200 [==============================] - 0s 80us/step - loss: 0.1383 - accuracy: 0.9650\n",
      "Epoch 89/100\n",
      "200/200 [==============================] - 0s 85us/step - loss: 0.1391 - accuracy: 0.9650\n",
      "Epoch 90/100\n",
      "200/200 [==============================] - 0s 80us/step - loss: 0.1350 - accuracy: 0.9650\n",
      "Epoch 91/100\n",
      "200/200 [==============================] - 0s 95us/step - loss: 0.1347 - accuracy: 0.9650\n",
      "Epoch 92/100\n",
      "200/200 [==============================] - 0s 95us/step - loss: 0.1343 - accuracy: 0.9650\n",
      "Epoch 93/100\n",
      "200/200 [==============================] - 0s 90us/step - loss: 0.1356 - accuracy: 0.9700\n",
      "Epoch 94/100\n",
      "200/200 [==============================] - 0s 95us/step - loss: 0.1320 - accuracy: 0.9650\n",
      "Epoch 95/100\n",
      "200/200 [==============================] - 0s 110us/step - loss: 0.1325 - accuracy: 0.9650\n",
      "Epoch 96/100\n",
      "200/200 [==============================] - 0s 105us/step - loss: 0.1306 - accuracy: 0.9650\n",
      "Epoch 97/100\n",
      "200/200 [==============================] - 0s 90us/step - loss: 0.1299 - accuracy: 0.9650\n",
      "Epoch 98/100\n",
      "200/200 [==============================] - 0s 70us/step - loss: 0.1291 - accuracy: 0.9650\n",
      "Epoch 99/100\n",
      "200/200 [==============================] - 0s 75us/step - loss: 0.1284 - accuracy: 0.9700\n",
      "Epoch 100/100\n",
      "200/200 [==============================] - 0s 80us/step - loss: 0.1299 - accuracy: 0.9700\n"
     ]
    }
   ],
   "source": [
    "h = model.fit(xtr,ytr,epochs=100,verbose=1)"
   ]
  },
  {
   "cell_type": "code",
   "execution_count": 16,
   "metadata": {},
   "outputs": [
    {
     "data": {
      "image/png": "[encoded data removed]",
      "text/plain": [
       "<Figure size 432x288 with 1 Axes>"
      ]
     },
     "metadata": {
      "needs_background": "light"
     },
     "output_type": "display_data"
    }
   ],
   "source": [
    "plt.plot(h.history['loss'],label= 'loss')\n",
    "plt.plot(h.history['accuracy'],label= 'accuracy')\n",
    "plt.legend()\n",
    "plt.show()"
   ]
  },
  {
   "cell_type": "code",
   "execution_count": 17,
   "metadata": {},
   "outputs": [
    {
     "data": {
      "image/png": "[encoded data removed]",
      "text/plain": [
       "<Figure size 432x288 with 1 Axes>"
      ]
     },
     "metadata": {
      "needs_background": "light"
     },
     "output_type": "display_data"
    }
   ],
   "source": [
    "x_max ,x_min = xtr[:,0].max()+1, xtr[:,0].min()-1\n",
    "y_max , y_min = xtr[:,1].max()+1, xtr[:,1].min()-1\n",
    "xx,yy = np.meshgrid(np.linspace(x_min,x_max),(np.linspace(y_min,y_max)))\n",
    "grid = np.c_[xx.ravel(),yy.ravel()]\n",
    "pred = model.predict(grid).reshape(xx.shape)\n",
    "plt.contourf(xx,yy,pred)\n",
    "plt.scatter(xtr[:n_pts,0],xtr[:n_pts,1])\n",
    "plt.scatter(xtr[n_pts:,0],xtr[n_pts:,1])\n",
    "plt.show()"
   ]
  },
  {
   "cell_type": "code",
   "execution_count": null,
   "metadata": {},
   "outputs": [],
   "source": []
  }
 ],
 "metadata": {
  "kernelspec": {
   "display_name": "Python 3",
   "language": "python",
   "name": "python3"
  },
  "language_info": {
   "codemirror_mode": {
    "name": "ipython",
    "version": 3
   },
   "file_extension": ".py",
   "mimetype": "text/x-python",
   "name": "python",
   "nbconvert_exporter": "python",
   "pygments_lexer": "ipython3",
   "version": "3.7.4"
  }
 },
 "nbformat": 4,
 "nbformat_minor": 2
}
